{
 "cells": [
  {
   "cell_type": "code",
   "execution_count": 1,
   "metadata": {},
   "outputs": [],
   "source": [
    "import sqlite3 as sql\n",
    "import pandas as pd \n",
    "import numpy as np\n",
    "\n",
    "conn = sql.connect('NEST_Pandemia.sqlite') \n",
    "\n",
    "queryall = 'select * from nest limit 1' \n",
    "df_titulos = pd.read_sql_query(queryall, conn)"
   ]
  },
  {
   "cell_type": "code",
   "execution_count": 2,
   "metadata": {},
   "outputs": [],
   "source": [
    "# Writers \n",
    "# escribe excel file para DP (0001,0002)  \n",
    "writer1 = pd.ExcelWriter(\"lesiones_dp_univariados.xlsx\")\n",
    "# escribe excel file para DP (0004,0005)\n",
    "writer2 = pd.ExcelWriter(\"colision_comprensivo_univariados.xlsx\")\n",
    "# escribe excel file cobertura asistencia medica\n",
    "writer3 = pd.ExcelWriter(\"asistenciamedica_univariados.xlsx\")  "
   ]
  },
  {
   "cell_type": "code",
   "execution_count": 3,
   "metadata": {},
   "outputs": [],
   "source": [
    "# lista de coberturas por daños propios y asistencia medica \n",
    "coberturas_cc = [\"0004\", \"0005\"]\n",
    "coberturas_am = [\"0003\"]\n",
    "\n",
    "# pedazo de query que quiero que sea para que la columna del indice sea la que yo quiero \n",
    "buscadores = [\"strftime('%Y', FECINIVALID )\", \\\n",
    "              \"strftime('%Y', FECINIVALID ) - anoveh\", \\\n",
    "              \"strftime('%Y', FECINIVALID ) - strftime('%Y', FECNAC )\", \\\n",
    "              \"(DESCMARCA)\", \\\n",
    "              \"(DESCMARCA || '_' || DESCMODELO)\",\n",
    "              \"GRUPORELATIVIDAD\", \\\n",
    "              \"SEXO\" \n",
    "            ]\n",
    "# da un titulo a cada buscador para el sheet de excel, más facil de entender el query \n",
    "titulo_buscadores = [\"ANOEMISION\", \"EDADVEH\", \"EDADCONDUCTOR\", \"MARCA\", \"MARCA_MODELO\", \"GRUPORELATIVIDAD\", \"SEXO\"]"
   ]
  },
  {
   "cell_type": "code",
   "execution_count": 4,
   "metadata": {},
   "outputs": [],
   "source": [
    "def querys(coberturas, buscadores, writer):\n",
    "    for c in coberturas:\n",
    "        # initialize position\n",
    "        y = 0 \n",
    "        # loop through each buscador\n",
    "        for b in buscadores:\n",
    "            # sql query para select columnas de NEST que se necesitan para el univariado\n",
    "            query = \"select \"+b+\" agrupador, \\\n",
    "                sum(Dias_Expuesto)/365 anos_expuestos, \\\n",
    "                sum(ACT_\"+c+\") accidentes, \\\n",
    "                sum(cl_\"+c+\") importe, \\\n",
    "                sum(sa_\"+c+\") sum_aseg \\\n",
    "                    from nest \\\n",
    "                    where tipoveh= 'P' and \\\n",
    "                    tipopdcion ='P' and \\\n",
    "                FECINIVALID > '2010-01-01' and \\\n",
    "                fecinivalid < '2023-01-01'\\\n",
    "                    group by agrupador\" \n",
    "\n",
    "            # print(query)\n",
    "            # Read the query results into a pandas DataFrame\n",
    "            df_variables= pd.read_sql_query(query, conn)\n",
    "\n",
    "            # agregando columnas\n",
    "            df_variables['frecuencia'] = df_variables['accidentes'] / df_variables['anos_expuestos']\n",
    "            df_variables['coste_medio'] = df_variables['importe'] / df_variables['accidentes']\n",
    "            df_variables['sum_aseg_media'] = df_variables['sum_aseg']/ df_variables['anos_expuestos']\n",
    "            df_variables['tasa_riesgo'] = df_variables['importe'] / df_variables['sum_aseg']\n",
    "\n",
    "            df_variables.to_excel(writer, sheet_name= c+\"_\"+titulo_buscadores[y])\n",
    "            # Increment the position for buscadores\n",
    "            \n",
    "            y += 1\n",
    "\n",
    "\n"
   ]
  },
  {
   "cell_type": "code",
   "execution_count": 5,
   "metadata": {},
   "outputs": [],
   "source": [
    "# Usar function \"querys\" para hacer excels de 0004 y 0005 y 0003, respectivamente\n",
    "querys(coberturas_cc, buscadores, writer2)\n",
    "querys(coberturas_am, buscadores, writer3)\n"
   ]
  },
  {
   "cell_type": "code",
   "execution_count": 6,
   "metadata": {},
   "outputs": [],
   "source": [
    "coberturas = [[\"0001\", \"0107\"],[\"0002\", \"0108\"]]\n",
    "\n",
    "for c in coberturas:\n",
    "    # loop through each buscador\n",
    "    for y, b in enumerate(buscadores):\n",
    "        # sql query para select columnas de NEST que se necesitan para el univariado \n",
    "        query = \"SELECT agrupador, anos_expuestos, \\\n",
    "                SUM(accidentes) AS accidentes,\\\n",
    "                SUM(importe) AS importe,SUM(sum_aseg) AS sum_aseg \\\n",
    "                FROM (\\\n",
    "                    SELECT \\\n",
    "                    \"+b+\" agrupador, \\\n",
    "                    sum(Dias_Expuesto)/365 anos_expuestos, \\\n",
    "                    sum(ACT_\"+c[0]+\") accidentes,\\\n",
    "                    sum(cl_\"+c[0]+\") importe, \\\n",
    "                    sum(sa_\"+c[0]+\") sum_aseg \\\n",
    "                    FROM nest\\\n",
    "                    WHERE tipoveh = 'P' AND FECINIVALID > '2010-01-01' AND fecinivalid < '2023-01-01' \\\n",
    "                    GROUP BY agrupador \\\n",
    "                UNION ALL \\\n",
    "                    SELECT \\\n",
    "                    \"+b+\" agrupador, \\\n",
    "                    sum(Dias_Expuesto)/365 anos_expuestos, \\\n",
    "                    sum(ACT_\"+c[1]+\") accidentes,\\\n",
    "                    sum(cl_\"+c[1]+\") importe, \\\n",
    "                    sum(sa_\"+c[1]+\") sum_aseg \\\n",
    "                    FROM nest\\\n",
    "                    WHERE tipoveh = 'P' AND FECINIVALID > '2010-01-01' AND fecinivalid < '2023-01-01'\\\n",
    "                    GROUP BY agrupador \\\n",
    "                ) combined_results \\\n",
    "                GROUP BY agrupador, anos_expuestos;\"\n",
    "    \n",
    "        # print(query)\n",
    "        \n",
    "        # Read the query results into a pandas DataFrame\n",
    "        df_lesiones = pd.read_sql_query(query, conn)\n",
    "        # agregando columnas\n",
    "        df_lesiones['frecuencia'] = df_lesiones['accidentes'] / df_lesiones['anos_expuestos']\n",
    "        df_lesiones['coste_medio'] = df_lesiones['importe'] / df_lesiones['accidentes']\n",
    "        df_lesiones['sum_aseg_media'] = df_lesiones['sum_aseg']/ df_lesiones['anos_expuestos']\n",
    "        df_lesiones['tasa_riesgo'] = df_lesiones['importe'] / df_lesiones['sum_aseg']\n",
    "        df_lesiones.to_excel(writer1, sheet_name= c[0]+\"_\"+titulo_buscadores[y])\n"
   ]
  },
  {
   "cell_type": "code",
   "execution_count": null,
   "metadata": {},
   "outputs": [],
   "source": [
    "# Save Excel files\n",
    "writer1.save()\n",
    "writer2.save()\n",
    "writer3.save()"
   ]
  }
 ],
 "metadata": {
  "kernelspec": {
   "display_name": "base",
   "language": "python",
   "name": "python3"
  },
  "language_info": {
   "codemirror_mode": {
    "name": "ipython",
    "version": 3
   },
   "file_extension": ".py",
   "mimetype": "text/x-python",
   "name": "python",
   "nbconvert_exporter": "python",
   "pygments_lexer": "ipython3",
   "version": "3.9.13"
  },
  "orig_nbformat": 4
 },
 "nbformat": 4,
 "nbformat_minor": 2
}
